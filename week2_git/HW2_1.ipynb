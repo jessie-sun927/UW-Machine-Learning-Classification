{
 "cells": [
  {
   "cell_type": "code",
   "execution_count": 1,
   "metadata": {},
   "outputs": [],
   "source": [
    "import pandas as pd\n",
    "import numpy as np"
   ]
  },
  {
   "cell_type": "markdown",
   "metadata": {},
   "source": [
    "### Data analysis: remove punctuation, count word for important words"
   ]
  },
  {
   "cell_type": "code",
   "execution_count": 2,
   "metadata": {},
   "outputs": [],
   "source": [
    "products = pd.read_csv('amazon_baby_subset.csv')"
   ]
  },
  {
   "cell_type": "code",
   "execution_count": 3,
   "metadata": {},
   "outputs": [
    {
     "data": {
      "text/html": [
       "<div>\n",
       "<style scoped>\n",
       "    .dataframe tbody tr th:only-of-type {\n",
       "        vertical-align: middle;\n",
       "    }\n",
       "\n",
       "    .dataframe tbody tr th {\n",
       "        vertical-align: top;\n",
       "    }\n",
       "\n",
       "    .dataframe thead th {\n",
       "        text-align: right;\n",
       "    }\n",
       "</style>\n",
       "<table border=\"1\" class=\"dataframe\">\n",
       "  <thead>\n",
       "    <tr style=\"text-align: right;\">\n",
       "      <th></th>\n",
       "      <th>name</th>\n",
       "      <th>sentiment</th>\n",
       "    </tr>\n",
       "  </thead>\n",
       "  <tbody>\n",
       "    <tr>\n",
       "      <th>0</th>\n",
       "      <td>Stop Pacifier Sucking without tears with Thumb...</td>\n",
       "      <td>1</td>\n",
       "    </tr>\n",
       "    <tr>\n",
       "      <th>1</th>\n",
       "      <td>Nature's Lullabies Second Year Sticker Calendar</td>\n",
       "      <td>1</td>\n",
       "    </tr>\n",
       "    <tr>\n",
       "      <th>2</th>\n",
       "      <td>Nature's Lullabies Second Year Sticker Calendar</td>\n",
       "      <td>1</td>\n",
       "    </tr>\n",
       "    <tr>\n",
       "      <th>3</th>\n",
       "      <td>Lamaze Peekaboo, I Love You</td>\n",
       "      <td>1</td>\n",
       "    </tr>\n",
       "    <tr>\n",
       "      <th>4</th>\n",
       "      <td>SoftPlay Peek-A-Boo Where's Elmo A Children's ...</td>\n",
       "      <td>1</td>\n",
       "    </tr>\n",
       "    <tr>\n",
       "      <th>5</th>\n",
       "      <td>Our Baby Girl Memory Book</td>\n",
       "      <td>1</td>\n",
       "    </tr>\n",
       "    <tr>\n",
       "      <th>6</th>\n",
       "      <td>Hunnt&amp;reg; Falling Flowers and Birds Kids Nurs...</td>\n",
       "      <td>1</td>\n",
       "    </tr>\n",
       "    <tr>\n",
       "      <th>7</th>\n",
       "      <td>Blessed By Pope Benedict XVI Divine Mercy Full...</td>\n",
       "      <td>1</td>\n",
       "    </tr>\n",
       "    <tr>\n",
       "      <th>8</th>\n",
       "      <td>Cloth Diaper Pins Stainless Steel Traditional ...</td>\n",
       "      <td>1</td>\n",
       "    </tr>\n",
       "    <tr>\n",
       "      <th>9</th>\n",
       "      <td>Cloth Diaper Pins Stainless Steel Traditional ...</td>\n",
       "      <td>1</td>\n",
       "    </tr>\n",
       "  </tbody>\n",
       "</table>\n",
       "</div>"
      ],
      "text/plain": [
       "                                                name  sentiment\n",
       "0  Stop Pacifier Sucking without tears with Thumb...          1\n",
       "1    Nature's Lullabies Second Year Sticker Calendar          1\n",
       "2    Nature's Lullabies Second Year Sticker Calendar          1\n",
       "3                        Lamaze Peekaboo, I Love You          1\n",
       "4  SoftPlay Peek-A-Boo Where's Elmo A Children's ...          1\n",
       "5                          Our Baby Girl Memory Book          1\n",
       "6  Hunnt&reg; Falling Flowers and Birds Kids Nurs...          1\n",
       "7  Blessed By Pope Benedict XVI Divine Mercy Full...          1\n",
       "8  Cloth Diaper Pins Stainless Steel Traditional ...          1\n",
       "9  Cloth Diaper Pins Stainless Steel Traditional ...          1"
      ]
     },
     "execution_count": 3,
     "metadata": {},
     "output_type": "execute_result"
    }
   ],
   "source": [
    "products.iloc[0:10,[0,3]]  # print first ten rows, name and sentiment column"
   ]
  },
  {
   "cell_type": "code",
   "execution_count": 4,
   "metadata": {},
   "outputs": [],
   "source": [
    "products = products.fillna({'review':''})"
   ]
  },
  {
   "cell_type": "code",
   "execution_count": 5,
   "metadata": {},
   "outputs": [
    {
     "name": "stdout",
     "output_type": "stream",
     "text": [
      "['baby', 'one', 'great', 'love', 'use', 'would', 'like', 'easy', 'little', 'seat']\n"
     ]
    }
   ],
   "source": [
    "import json\n",
    "with open('important_words.json') as important_words_file:    \n",
    "    important_words = json.load(important_words_file)\n",
    "print (important_words[:10])    # important_words is a list "
   ]
  },
  {
   "cell_type": "code",
   "execution_count": 6,
   "metadata": {},
   "outputs": [
    {
     "data": {
      "text/html": [
       "<div>\n",
       "<style scoped>\n",
       "    .dataframe tbody tr th:only-of-type {\n",
       "        vertical-align: middle;\n",
       "    }\n",
       "\n",
       "    .dataframe tbody tr th {\n",
       "        vertical-align: top;\n",
       "    }\n",
       "\n",
       "    .dataframe thead th {\n",
       "        text-align: right;\n",
       "    }\n",
       "</style>\n",
       "<table border=\"1\" class=\"dataframe\">\n",
       "  <thead>\n",
       "    <tr style=\"text-align: right;\">\n",
       "      <th></th>\n",
       "      <th>name</th>\n",
       "      <th>review</th>\n",
       "      <th>rating</th>\n",
       "      <th>sentiment</th>\n",
       "      <th>review_clean</th>\n",
       "    </tr>\n",
       "  </thead>\n",
       "  <tbody>\n",
       "    <tr>\n",
       "      <th>0</th>\n",
       "      <td>Stop Pacifier Sucking without tears with Thumb...</td>\n",
       "      <td>All of my kids have cried non-stop when I trie...</td>\n",
       "      <td>5</td>\n",
       "      <td>1</td>\n",
       "      <td>All of my kids have cried nonstop when I tried...</td>\n",
       "    </tr>\n",
       "    <tr>\n",
       "      <th>1</th>\n",
       "      <td>Nature's Lullabies Second Year Sticker Calendar</td>\n",
       "      <td>We wanted to get something to keep track of ou...</td>\n",
       "      <td>5</td>\n",
       "      <td>1</td>\n",
       "      <td>We wanted to get something to keep track of ou...</td>\n",
       "    </tr>\n",
       "    <tr>\n",
       "      <th>2</th>\n",
       "      <td>Nature's Lullabies Second Year Sticker Calendar</td>\n",
       "      <td>My daughter had her 1st baby over a year ago. ...</td>\n",
       "      <td>5</td>\n",
       "      <td>1</td>\n",
       "      <td>My daughter had her 1st baby over a year ago S...</td>\n",
       "    </tr>\n",
       "  </tbody>\n",
       "</table>\n",
       "</div>"
      ],
      "text/plain": [
       "                                                name  \\\n",
       "0  Stop Pacifier Sucking without tears with Thumb...   \n",
       "1    Nature's Lullabies Second Year Sticker Calendar   \n",
       "2    Nature's Lullabies Second Year Sticker Calendar   \n",
       "\n",
       "                                              review  rating  sentiment  \\\n",
       "0  All of my kids have cried non-stop when I trie...       5          1   \n",
       "1  We wanted to get something to keep track of ou...       5          1   \n",
       "2  My daughter had her 1st baby over a year ago. ...       5          1   \n",
       "\n",
       "                                        review_clean  \n",
       "0  All of my kids have cried nonstop when I tried...  \n",
       "1  We wanted to get something to keep track of ou...  \n",
       "2  My daughter had her 1st baby over a year ago S...  "
      ]
     },
     "execution_count": 6,
     "metadata": {},
     "output_type": "execute_result"
    }
   ],
   "source": [
    "def remove_punctuation(text):\n",
    "    import string\n",
    "    return text.translate(str.maketrans('','',string.punctuation))\n",
    "\n",
    "products['review_clean'] = products['review'].apply(remove_punctuation)\n",
    "products.head(3)"
   ]
  },
  {
   "cell_type": "code",
   "execution_count": 7,
   "metadata": {},
   "outputs": [],
   "source": [
    "for word in important_words:\n",
    "    products[word] = products['review_clean'].apply(lambda s : s.split().count(word))   # lambda s  as a defined function"
   ]
  },
  {
   "cell_type": "code",
   "execution_count": 8,
   "metadata": {},
   "outputs": [
    {
     "data": {
      "text/html": [
       "<div>\n",
       "<style scoped>\n",
       "    .dataframe tbody tr th:only-of-type {\n",
       "        vertical-align: middle;\n",
       "    }\n",
       "\n",
       "    .dataframe tbody tr th {\n",
       "        vertical-align: top;\n",
       "    }\n",
       "\n",
       "    .dataframe thead th {\n",
       "        text-align: right;\n",
       "    }\n",
       "</style>\n",
       "<table border=\"1\" class=\"dataframe\">\n",
       "  <thead>\n",
       "    <tr style=\"text-align: right;\">\n",
       "      <th></th>\n",
       "      <th>name</th>\n",
       "      <th>review</th>\n",
       "      <th>rating</th>\n",
       "      <th>sentiment</th>\n",
       "      <th>review_clean</th>\n",
       "      <th>baby</th>\n",
       "      <th>one</th>\n",
       "      <th>great</th>\n",
       "      <th>love</th>\n",
       "      <th>use</th>\n",
       "      <th>...</th>\n",
       "      <th>seems</th>\n",
       "      <th>picture</th>\n",
       "      <th>completely</th>\n",
       "      <th>wish</th>\n",
       "      <th>buying</th>\n",
       "      <th>babies</th>\n",
       "      <th>won</th>\n",
       "      <th>tub</th>\n",
       "      <th>almost</th>\n",
       "      <th>either</th>\n",
       "    </tr>\n",
       "  </thead>\n",
       "  <tbody>\n",
       "    <tr>\n",
       "      <th>0</th>\n",
       "      <td>Stop Pacifier Sucking without tears with Thumb...</td>\n",
       "      <td>All of my kids have cried non-stop when I trie...</td>\n",
       "      <td>5</td>\n",
       "      <td>1</td>\n",
       "      <td>All of my kids have cried nonstop when I tried...</td>\n",
       "      <td>0</td>\n",
       "      <td>0</td>\n",
       "      <td>1</td>\n",
       "      <td>0</td>\n",
       "      <td>0</td>\n",
       "      <td>...</td>\n",
       "      <td>0</td>\n",
       "      <td>0</td>\n",
       "      <td>0</td>\n",
       "      <td>0</td>\n",
       "      <td>0</td>\n",
       "      <td>0</td>\n",
       "      <td>0</td>\n",
       "      <td>0</td>\n",
       "      <td>0</td>\n",
       "      <td>0</td>\n",
       "    </tr>\n",
       "    <tr>\n",
       "      <th>1</th>\n",
       "      <td>Nature's Lullabies Second Year Sticker Calendar</td>\n",
       "      <td>We wanted to get something to keep track of ou...</td>\n",
       "      <td>5</td>\n",
       "      <td>1</td>\n",
       "      <td>We wanted to get something to keep track of ou...</td>\n",
       "      <td>0</td>\n",
       "      <td>0</td>\n",
       "      <td>0</td>\n",
       "      <td>0</td>\n",
       "      <td>0</td>\n",
       "      <td>...</td>\n",
       "      <td>0</td>\n",
       "      <td>0</td>\n",
       "      <td>0</td>\n",
       "      <td>0</td>\n",
       "      <td>0</td>\n",
       "      <td>0</td>\n",
       "      <td>0</td>\n",
       "      <td>0</td>\n",
       "      <td>0</td>\n",
       "      <td>0</td>\n",
       "    </tr>\n",
       "    <tr>\n",
       "      <th>2</th>\n",
       "      <td>Nature's Lullabies Second Year Sticker Calendar</td>\n",
       "      <td>My daughter had her 1st baby over a year ago. ...</td>\n",
       "      <td>5</td>\n",
       "      <td>1</td>\n",
       "      <td>My daughter had her 1st baby over a year ago S...</td>\n",
       "      <td>1</td>\n",
       "      <td>0</td>\n",
       "      <td>0</td>\n",
       "      <td>0</td>\n",
       "      <td>0</td>\n",
       "      <td>...</td>\n",
       "      <td>0</td>\n",
       "      <td>0</td>\n",
       "      <td>0</td>\n",
       "      <td>0</td>\n",
       "      <td>0</td>\n",
       "      <td>0</td>\n",
       "      <td>0</td>\n",
       "      <td>0</td>\n",
       "      <td>0</td>\n",
       "      <td>0</td>\n",
       "    </tr>\n",
       "  </tbody>\n",
       "</table>\n",
       "<p>3 rows × 198 columns</p>\n",
       "</div>"
      ],
      "text/plain": [
       "                                                name  \\\n",
       "0  Stop Pacifier Sucking without tears with Thumb...   \n",
       "1    Nature's Lullabies Second Year Sticker Calendar   \n",
       "2    Nature's Lullabies Second Year Sticker Calendar   \n",
       "\n",
       "                                              review  rating  sentiment  \\\n",
       "0  All of my kids have cried non-stop when I trie...       5          1   \n",
       "1  We wanted to get something to keep track of ou...       5          1   \n",
       "2  My daughter had her 1st baby over a year ago. ...       5          1   \n",
       "\n",
       "                                        review_clean  baby  one  great  love  \\\n",
       "0  All of my kids have cried nonstop when I tried...     0    0      1     0   \n",
       "1  We wanted to get something to keep track of ou...     0    0      0     0   \n",
       "2  My daughter had her 1st baby over a year ago S...     1    0      0     0   \n",
       "\n",
       "   use  ...  seems  picture  completely  wish  buying  babies  won  tub  \\\n",
       "0    0  ...      0        0           0     0       0       0    0    0   \n",
       "1    0  ...      0        0           0     0       0       0    0    0   \n",
       "2    0  ...      0        0           0     0       0       0    0    0   \n",
       "\n",
       "   almost  either  \n",
       "0       0       0  \n",
       "1       0       0  \n",
       "2       0       0  \n",
       "\n",
       "[3 rows x 198 columns]"
      ]
     },
     "execution_count": 8,
     "metadata": {},
     "output_type": "execute_result"
    }
   ],
   "source": [
    "products.head(3)"
   ]
  },
  {
   "cell_type": "code",
   "execution_count": 9,
   "metadata": {},
   "outputs": [],
   "source": [
    "def perfect_count (x):\n",
    "    if x>=1:\n",
    "        return 1\n",
    "    else:\n",
    "        return 0"
   ]
  },
  {
   "cell_type": "code",
   "execution_count": 10,
   "metadata": {},
   "outputs": [],
   "source": [
    "products['contain_perfect']=products['perfect'].apply(perfect_count)"
   ]
  },
  {
   "cell_type": "code",
   "execution_count": 11,
   "metadata": {},
   "outputs": [
    {
     "data": {
      "text/plain": [
       "2955"
      ]
     },
     "execution_count": 11,
     "metadata": {},
     "output_type": "execute_result"
    }
   ],
   "source": [
    "np.sum(products['contain_perfect'])"
   ]
  },
  {
   "cell_type": "code",
   "execution_count": 12,
   "metadata": {},
   "outputs": [],
   "source": [
    "#Equivalent to : \n",
    "#products['contains_perfect'] = products['perfect'] >=1  # return value is True/False\n",
    "#print (products['contains_perfect'].sum())              # sum up the number of True"
   ]
  },
  {
   "cell_type": "markdown",
   "metadata": {},
   "source": [
    "### Convert data frame to multi-dimensional array"
   ]
  },
  {
   "cell_type": "code",
   "execution_count": 13,
   "metadata": {},
   "outputs": [],
   "source": [
    "def get_numpy_data(dataframe, features, label):\n",
    "    dataframe['constant'] = 1\n",
    "    features = ['constant'] + features\n",
    "    features_frame = dataframe[features]\n",
    "    feature_matrix = features_frame.to_numpy()\n",
    "    label_sarray = dataframe[label]\n",
    "    label_array = label_sarray.to_numpy()\n",
    "    return(feature_matrix, label_array)"
   ]
  },
  {
   "cell_type": "code",
   "execution_count": 14,
   "metadata": {},
   "outputs": [],
   "source": [
    "feature_matrix, sentiment = get_numpy_data(products, important_words, 'sentiment')  #feature_matrix=important_words columns"
   ]
  },
  {
   "cell_type": "code",
   "execution_count": 15,
   "metadata": {},
   "outputs": [
    {
     "name": "stdout",
     "output_type": "stream",
     "text": [
      "(53072, 194)\n"
     ]
    }
   ],
   "source": [
    "print (feature_matrix.shape)"
   ]
  },
  {
   "cell_type": "markdown",
   "metadata": {},
   "source": [
    "### Define functions used in GD: predict_probability, feature_derivative, compute_log_likelihood, GD algorithm"
   ]
  },
  {
   "cell_type": "code",
   "execution_count": 16,
   "metadata": {},
   "outputs": [],
   "source": [
    "def predict_probability (feature_matrix,coefficients):\n",
    "    score=np.dot(feature_matrix,coefficients)  # feature_matrix: N*D  coefficients: D*1 score: N*1\n",
    "    predictions=1.0/(1+np.exp(-score))         #prediction: N*1\n",
    "    return predictions"
   ]
  },
  {
   "cell_type": "code",
   "execution_count": 17,
   "metadata": {},
   "outputs": [],
   "source": [
    "def feature_derivative(errors,feature):\n",
    "    derivative= np.dot(np.transpose(errors), feature) # errors: N*1 feature: N*1 \n",
    "    return derivative                                 # derivative: 1*1"
   ]
  },
  {
   "cell_type": "code",
   "execution_count": 45,
   "metadata": {},
   "outputs": [],
   "source": [
    "def compute_log_likelihood(feature_matrix, sentiment, coefficients):\n",
    "    indicator=(sentiment==+1)   \n",
    "    scores= np.dot(feature_matrix, coefficients)     # scores: N*1\n",
    "    #lp = np.sum((np.transpose(np.array([indicator]))-1)*scores - np.log(1. + np.exp(-scores)))\n",
    "    lp=np.sum((indicator-1)*score-np.log(1+np.exp(-scores))) # (indicator-1)*scores--> element-wise product\n",
    "    return lp "
   ]
  },
  {
   "cell_type": "code",
   "execution_count": 46,
   "metadata": {},
   "outputs": [
    {
     "name": "stdout",
     "output_type": "stream",
     "text": [
      "The following outputs must match \n",
      "------------------------------------------------\n",
      "correct_log_likelihood           = -5.331411615436032\n",
      "output of compute_log_likelihood = -5.331411615436032\n"
     ]
    }
   ],
   "source": [
    "### checkpoint:\n",
    "dummy_feature_matrix = np.array([[1.,2.,3.], [1.,-1.,-1]])\n",
    "dummy_coefficients = np.array([1., 3., -1.])\n",
    "dummy_sentiment = np.array([-1, 1])\n",
    "\n",
    "correct_indicators  = np.array( [ -1==+1,                                       1==+1 ] )\n",
    "correct_scores      = np.array( [ 1.*1. + 2.*3. + 3.*(-1.),                     1.*1. + (-1.)*3. + (-1.)*(-1.) ] )\n",
    "correct_first_term  = np.array( [ (correct_indicators[0]-1)*correct_scores[0],  (correct_indicators[1]-1)*correct_scores[1] ] )\n",
    "correct_second_term = np.array( [ np.log(1. + np.exp(-correct_scores[0])),      np.log(1. + np.exp(-correct_scores[1])) ] )\n",
    "\n",
    "correct_ll          =      sum( [ correct_first_term[0]-correct_second_term[0], correct_first_term[1]-correct_second_term[1] ] ) \n",
    "\n",
    "print('The following outputs must match ')\n",
    "print('------------------------------------------------')\n",
    "print('correct_log_likelihood           =', correct_ll)\n",
    "print('output of compute_log_likelihood =', compute_log_likelihood(dummy_feature_matrix, dummy_sentiment, dummy_coefficients))"
   ]
  },
  {
   "cell_type": "code",
   "execution_count": 54,
   "metadata": {},
   "outputs": [],
   "source": [
    "from math import sqrt\n",
    "def logistic_regression(feature_matrix, sentiment, initial_coefficients, step_size, max_iter):\n",
    "    coefficients = np.array(initial_coefficients) # make sure it's a numpy array\n",
    "    \n",
    "    for itr in range(max_iter):\n",
    "\n",
    "        predictions = predict_probability(feature_matrix, coefficients)\n",
    "        indicator = (sentiment==+1)\n",
    "        errors = np.transpose(np.array([indicator])) - predictions     # errors calculated ahead to ensure not use the updated coeff from the nested loop\n",
    "\n",
    "        for j in range(len(coefficients)): \n",
    "            \n",
    "            derivative = feature_derivative(errors, feature_matrix[:,j])\n",
    "            coefficients[j] += step_size*derivative\n",
    " \n",
    "        # Checking whether log likelihood is increasing\n",
    "        #if itr <= 15 or (itr <= 100 and itr % 10 == 0) or (itr <= 1000 and itr % 100 == 0) \\\n",
    "        #or (itr <= 10000 and itr % 1000 == 0) or itr % 10000 == 0:\n",
    "            # lplist.append(compute_log_likelihood(feature_matrix, sentiment, coefficients))\n",
    "            #lp = compute_log_likelihood(feature_matrix, sentiment, coefficients)\n",
    "            #print ('iteration %*d: log likelihood of observed labels = %.8f' % \\\n",
    "                #(int(np.ceil(np.log10(max_iter))), itr, lp))\n",
    "            \n",
    "    return coefficients"
   ]
  },
  {
   "cell_type": "code",
   "execution_count": 55,
   "metadata": {},
   "outputs": [],
   "source": [
    "initial_coefficients = np.zeros((194,1))   # set all initial coefficients to 0; dim: 194*1\n",
    "step_size = 1e-7\n",
    "max_iter = 301"
   ]
  },
  {
   "cell_type": "code",
   "execution_count": 56,
   "metadata": {},
   "outputs": [],
   "source": [
    "coefficients = logistic_regression(feature_matrix, sentiment, initial_coefficients, step_size, max_iter)"
   ]
  },
  {
   "cell_type": "code",
   "execution_count": 72,
   "metadata": {},
   "outputs": [],
   "source": [
    "scores = np.dot(feature_matrix,coefficients) #N*D\n",
    "np.sum(scores>0)"
   ]
  },
  {
   "cell_type": "code",
   "execution_count": 115,
   "metadata": {},
   "outputs": [
    {
     "name": "stdout",
     "output_type": "stream",
     "text": [
      "<class 'numpy.ndarray'>\n",
      "(53072, 1)\n"
     ]
    },
    {
     "data": {
      "text/plain": [
       "array([[ True],\n",
       "       [False],\n",
       "       [ True],\n",
       "       ...,\n",
       "       [False],\n",
       "       [ True],\n",
       "       [False]])"
      ]
     },
     "execution_count": 115,
     "metadata": {},
     "output_type": "execute_result"
    }
   ],
   "source": [
    "print(type(scores))\n",
    "print(scores.shape)\n",
    "F = scores>0\n",
    "F"
   ]
  },
  {
   "cell_type": "code",
   "execution_count": 93,
   "metadata": {},
   "outputs": [
    {
     "name": "stdout",
     "output_type": "stream",
     "text": [
      "(53072,)\n"
     ]
    },
    {
     "data": {
      "text/plain": [
       "array([ True, False,  True, ..., False,  True, False])"
      ]
     },
     "execution_count": 93,
     "metadata": {},
     "output_type": "execute_result"
    }
   ],
   "source": [
    "B = scores.flatten()\n",
    "print(B.shape)\n",
    "C = B>0\n",
    "C"
   ]
  },
  {
   "cell_type": "code",
   "execution_count": 97,
   "metadata": {},
   "outputs": [
    {
     "data": {
      "text/plain": [
       "array([ True,  True,  True, ..., False, False, False])"
      ]
     },
     "execution_count": 97,
     "metadata": {},
     "output_type": "execute_result"
    }
   ],
   "source": [
    "type(products[\"sentiment\"])\n",
    "A = np.array(products[\"sentiment\"])\n",
    "D = A>0\n",
    "D"
   ]
  },
  {
   "cell_type": "markdown",
   "metadata": {},
   "source": [
    "#### Compute Accuracy--way1"
   ]
  },
  {
   "cell_type": "code",
   "execution_count": 116,
   "metadata": {},
   "outputs": [
    {
     "name": "stdout",
     "output_type": "stream",
     "text": [
      "correct_num: 39903, total_num: 53072\n",
      "0.7518653904130238\n"
     ]
    }
   ],
   "source": [
    "correct_num = np.sum((scores.flatten()> 0) == (np.array(products['sentiment'])>0))\n",
    "total_num = len(products['sentiment'])\n",
    "print (\"correct_num: {}, total_num: {}\".format(correct_num, total_num))\n",
    "accuracy = correct_num * 1./ total_num\n",
    "print (accuracy)"
   ]
  },
  {
   "cell_type": "markdown",
   "metadata": {},
   "source": [
    "#### Compute Accuracy--way2    drawback: change the true scores value"
   ]
  },
  {
   "cell_type": "code",
   "execution_count": 29,
   "metadata": {},
   "outputs": [],
   "source": [
    "#for i in range(len(scores)):\n",
    "    #if scores[i]<0:\n",
    "        #scores[i]= -1\n",
    "    #else:\n",
    "        #scores[i]= 1"
   ]
  },
  {
   "cell_type": "code",
   "execution_count": 30,
   "metadata": {},
   "outputs": [
    {
     "name": "stdout",
     "output_type": "stream",
     "text": [
      "[[ 1.]\n",
      " [-1.]\n",
      " [ 1.]\n",
      " [ 1.]\n",
      " [ 1.]]\n",
      "[[ 1. -1.  1. ... -1.  1. -1.]]\n"
     ]
    }
   ],
   "source": [
    "#print(scores[:5])\n",
    "#print(np.transpose(scores)[:5])"
   ]
  },
  {
   "cell_type": "code",
   "execution_count": 31,
   "metadata": {},
   "outputs": [
    {
     "name": "stdout",
     "output_type": "stream",
     "text": [
      "0    1\n",
      "1    1\n",
      "2    1\n",
      "3    1\n",
      "4    1\n",
      "Name: sentiment, dtype: int64\n",
      "[1 1 1 1 1]\n"
     ]
    }
   ],
   "source": [
    "#print(products['sentiment'][:5])\n",
    "#print(np.array(products['sentiment'])[:5])"
   ]
  },
  {
   "cell_type": "code",
   "execution_count": 32,
   "metadata": {},
   "outputs": [
    {
     "name": "stdout",
     "output_type": "stream",
     "text": [
      "39903\n"
     ]
    }
   ],
   "source": [
    "#corr=np.sum(np.transpose(scores) == np.array(products['sentiment']))\n",
    "#print(corr)"
   ]
  },
  {
   "cell_type": "markdown",
   "metadata": {},
   "source": [
    "### Find the words contribute most to positive and negative review"
   ]
  },
  {
   "cell_type": "code",
   "execution_count": 117,
   "metadata": {
    "collapsed": true
   },
   "outputs": [
    {
     "data": {
      "text/plain": [
       "array([[ 5.16220157e-03],\n",
       "       [ 1.55656966e-02],\n",
       "       [-8.50204675e-03],\n",
       "       [ 6.65460842e-02],\n",
       "       [ 6.58907629e-02],\n",
       "       [ 5.01743882e-03],\n",
       "       [-5.38601484e-02],\n",
       "       [-3.50488413e-03],\n",
       "       [ 6.47945868e-02],\n",
       "       [ 4.54356263e-02],\n",
       "       [ 3.98353364e-03],\n",
       "       [ 2.00775410e-02],\n",
       "       [ 3.01350011e-02],\n",
       "       [-2.87115530e-02],\n",
       "       [ 1.52161964e-02],\n",
       "       [ 2.72592062e-04],\n",
       "       [ 1.19448177e-02],\n",
       "       [-1.82461935e-02],\n",
       "       [-1.21706420e-02],\n",
       "       [-4.15110334e-02],\n",
       "       [ 2.76820391e-03],\n",
       "       [ 1.77031999e-02],\n",
       "       [-4.39700067e-03],\n",
       "       [ 4.49764014e-02],\n",
       "       [ 9.90916464e-03],\n",
       "       [ 8.99239081e-04],\n",
       "       [-1.36219516e-03],\n",
       "       [ 1.26859357e-02],\n",
       "       [ 8.26466695e-03],\n",
       "       [-2.77426972e-02],\n",
       "       [ 6.10128809e-04],\n",
       "       [ 1.54084501e-02],\n",
       "       [-1.32134753e-02],\n",
       "       [-3.00512492e-02],\n",
       "       [ 2.97399371e-02],\n",
       "       [ 1.84087080e-02],\n",
       "       [ 2.86178752e-03],\n",
       "       [-1.05768015e-02],\n",
       "       [-6.57350362e-04],\n",
       "       [-1.01476555e-02],\n",
       "       [-4.79579528e-03],\n",
       "       [ 7.50891810e-03],\n",
       "       [ 4.27938289e-03],\n",
       "       [ 3.06785501e-03],\n",
       "       [-2.20317661e-03],\n",
       "       [ 9.57273354e-03],\n",
       "       [ 9.91666827e-05],\n",
       "       [-1.98462567e-02],\n",
       "       [ 1.75702722e-02],\n",
       "       [ 1.55478612e-03],\n",
       "       [-1.77375440e-02],\n",
       "       [ 9.78324102e-03],\n",
       "       [ 1.17031606e-02],\n",
       "       [-7.35345937e-03],\n",
       "       [-6.08714030e-03],\n",
       "       [ 6.43766808e-03],\n",
       "       [ 1.07159665e-02],\n",
       "       [-3.05345476e-03],\n",
       "       [ 7.17190727e-03],\n",
       "       [ 5.73320003e-03],\n",
       "       [ 4.60661876e-03],\n",
       "       [-5.20588421e-03],\n",
       "       [ 6.71012331e-03],\n",
       "       [ 9.03281814e-03],\n",
       "       [ 1.74563147e-03],\n",
       "       [ 6.00279979e-03],\n",
       "       [ 1.20181744e-02],\n",
       "       [-1.83594607e-02],\n",
       "       [-6.91010811e-03],\n",
       "       [-1.38687273e-02],\n",
       "       [-1.50406590e-02],\n",
       "       [ 5.92353611e-03],\n",
       "       [ 5.67478991e-03],\n",
       "       [-5.28786220e-03],\n",
       "       [ 3.08147864e-03],\n",
       "       [ 5.53751236e-03],\n",
       "       [ 1.49917916e-02],\n",
       "       [-3.35666000e-04],\n",
       "       [-3.30695153e-02],\n",
       "       [-4.78990943e-03],\n",
       "       [-6.41368859e-03],\n",
       "       [ 7.99938935e-03],\n",
       "       [-8.61390444e-04],\n",
       "       [ 1.68052959e-02],\n",
       "       [ 1.32539901e-02],\n",
       "       [ 1.72307051e-03],\n",
       "       [ 2.98030675e-03],\n",
       "       [ 8.58284300e-03],\n",
       "       [ 1.17082481e-02],\n",
       "       [ 2.80825907e-03],\n",
       "       [ 2.18724016e-03],\n",
       "       [ 1.68824711e-02],\n",
       "       [-4.65973741e-03],\n",
       "       [ 1.51368285e-03],\n",
       "       [-1.09509122e-02],\n",
       "       [ 9.17842898e-03],\n",
       "       [-1.88572281e-04],\n",
       "       [-3.89820373e-02],\n",
       "       [-2.44821005e-02],\n",
       "       [-1.87023714e-02],\n",
       "       [-2.13943485e-02],\n",
       "       [-1.29690465e-02],\n",
       "       [-1.71378670e-02],\n",
       "       [-1.37566767e-02],\n",
       "       [-1.49770449e-02],\n",
       "       [-5.10287978e-03],\n",
       "       [-2.89789761e-02],\n",
       "       [-1.48663194e-02],\n",
       "       [-1.28088380e-02],\n",
       "       [-1.07709355e-02],\n",
       "       [-6.95286915e-03],\n",
       "       [-5.04082164e-03],\n",
       "       [-9.25914404e-03],\n",
       "       [-2.40427481e-02],\n",
       "       [-2.65927785e-02],\n",
       "       [-1.97320937e-03],\n",
       "       [-5.04127508e-03],\n",
       "       [-7.00791912e-03],\n",
       "       [-3.48088523e-03],\n",
       "       [-6.40958916e-03],\n",
       "       [-4.07497010e-03],\n",
       "       [-6.30054296e-03],\n",
       "       [-1.09187932e-02],\n",
       "       [-1.26051900e-02],\n",
       "       [-1.66895314e-03],\n",
       "       [-7.76418781e-03],\n",
       "       [-5.15960485e-04],\n",
       "       [-1.94199551e-03],\n",
       "       [-1.24761586e-03],\n",
       "       [-5.01291731e-03],\n",
       "       [-9.12049191e-03],\n",
       "       [-7.22098801e-03],\n",
       "       [-8.31782981e-03],\n",
       "       [-5.60573348e-03],\n",
       "       [-1.47098335e-02],\n",
       "       [-9.31520819e-03],\n",
       "       [-2.22034402e-03],\n",
       "       [-7.07573098e-03],\n",
       "       [-5.10115608e-03],\n",
       "       [-8.93572862e-03],\n",
       "       [-1.27545713e-02],\n",
       "       [-7.04171991e-03],\n",
       "       [-9.76219676e-04],\n",
       "       [ 4.12091713e-04],\n",
       "       [ 8.29251160e-04],\n",
       "       [ 2.64661064e-03],\n",
       "       [-7.73228782e-03],\n",
       "       [ 1.53471164e-03],\n",
       "       [-7.37263060e-03],\n",
       "       [-3.73694386e-03],\n",
       "       [-3.81416409e-03],\n",
       "       [-1.64575145e-03],\n",
       "       [-3.31887732e-03],\n",
       "       [ 1.22257832e-03],\n",
       "       [ 1.36699286e-05],\n",
       "       [-3.01866601e-03],\n",
       "       [-1.02826343e-02],\n",
       "       [-1.06691327e-02],\n",
       "       [ 2.23639046e-03],\n",
       "       [-9.87424798e-03],\n",
       "       [-1.02192048e-02],\n",
       "       [-3.41330929e-03],\n",
       "       [ 3.34489960e-03],\n",
       "       [-3.50984516e-03],\n",
       "       [-6.26283150e-03],\n",
       "       [-7.22419943e-03],\n",
       "       [-5.47016154e-03],\n",
       "       [-1.25063947e-02],\n",
       "       [-2.47805699e-03],\n",
       "       [-1.60017985e-02],\n",
       "       [-6.40098934e-03],\n",
       "       [-4.26644386e-03],\n",
       "       [-1.55376990e-02],\n",
       "       [ 2.31349237e-03],\n",
       "       [-9.06653337e-03],\n",
       "       [-6.30012672e-03],\n",
       "       [-1.21010303e-02],\n",
       "       [-3.02578875e-03],\n",
       "       [-6.76289718e-03],\n",
       "       [-5.65498722e-03],\n",
       "       [-6.87050239e-03],\n",
       "       [-1.18950595e-02],\n",
       "       [-1.86489236e-04],\n",
       "       [-1.15230476e-02],\n",
       "       [ 2.81533219e-03],\n",
       "       [-8.10150295e-03],\n",
       "       [-1.00062131e-02],\n",
       "       [ 4.02037651e-03],\n",
       "       [-5.44300346e-03],\n",
       "       [ 2.85818985e-03],\n",
       "       [ 1.19885003e-04],\n",
       "       [-6.47587687e-03],\n",
       "       [-1.14493516e-03],\n",
       "       [-7.09205934e-03]])"
      ]
     },
     "execution_count": 117,
     "metadata": {},
     "output_type": "execute_result"
    }
   ],
   "source": [
    "coefficients"
   ]
  },
  {
   "cell_type": "code",
   "execution_count": 118,
   "metadata": {},
   "outputs": [
    {
     "name": "stdout",
     "output_type": "stream",
     "text": [
      "[[ 0.0051622 ]\n",
      " [ 0.0155657 ]\n",
      " [-0.00850205]\n",
      " [ 0.06654608]\n",
      " [ 0.06589076]\n",
      " [ 0.00501744]\n",
      " [-0.05386015]\n",
      " [-0.00350488]\n",
      " [ 0.06479459]\n",
      " [ 0.04543563]]\n"
     ]
    }
   ],
   "source": [
    "print(coefficients[:10])"
   ]
  },
  {
   "cell_type": "code",
   "execution_count": 119,
   "metadata": {},
   "outputs": [
    {
     "name": "stdout",
     "output_type": "stream",
     "text": [
      "['baby', 'one', 'great', 'love', 'use']\n",
      "[ 0.0051622   0.0155657  -0.00850205  0.06654608  0.06589076]\n"
     ]
    }
   ],
   "source": [
    "print(important_words[:5])\n",
    "print(coefficients.flatten()[:5])"
   ]
  },
  {
   "cell_type": "code",
   "execution_count": 126,
   "metadata": {},
   "outputs": [
    {
     "name": "stdout",
     "output_type": "stream",
     "text": [
      "     word  coefficients\n",
      "0    baby      0.015566\n",
      "1     one     -0.008502\n",
      "2   great      0.066546\n",
      "3    love      0.065891\n",
      "4     use      0.005017\n",
      "5   would     -0.053860\n",
      "6    like     -0.003505\n",
      "7    easy      0.064795\n",
      "8  little      0.045436\n",
      "9    seat      0.003984\n",
      "        word  coefficients\n",
      "2      great      0.066546\n",
      "3       love      0.065891\n",
      "7       easy      0.064795\n",
      "8     little      0.045436\n",
      "22     loves      0.044976\n",
      "11      well      0.030135\n",
      "33   perfect      0.029740\n",
      "10       old      0.020078\n",
      "34      nice      0.018409\n",
      "20  daughter      0.017703\n"
     ]
    }
   ],
   "source": [
    "coef_table = pd.DataFrame({'word':important_words, 'coefficients': coefficients.flatten()[1:]})  # exclude coef of constant\n",
    "coef_table_sort=coef_table.sort_values(by=['coefficients'], ascending=False)\n",
    "print(coef_table[:10])\n",
    "print(coef_table_sort[:10])"
   ]
  },
  {
   "cell_type": "code",
   "execution_count": 37,
   "metadata": {},
   "outputs": [
    {
     "name": "stdout",
     "output_type": "stream",
     "text": [
      "             word  coefficients\n",
      "5           would     -0.053860\n",
      "18        product     -0.041511\n",
      "96          money     -0.038982\n",
      "77           work     -0.033070\n",
      "32           even     -0.030051\n",
      "105  disappointed     -0.028979\n",
      "12            get     -0.028712\n",
      "28           back     -0.027743\n",
      "113        return     -0.026593\n",
      "97        monitor     -0.024482\n"
     ]
    }
   ],
   "source": [
    "coef_table = pd.DataFrame({'word':important_words, 'coefficients': coefficients.flatten()[1:]})  # exclude coef of constant\n",
    "coef_table_sort=coef_table.sort_values(by=['coefficients'], ascending=True)\n",
    "print(coef_table_sort[:10])"
   ]
  },
  {
   "cell_type": "code",
   "execution_count": null,
   "metadata": {},
   "outputs": [],
   "source": []
  }
 ],
 "metadata": {
  "kernelspec": {
   "display_name": "Python 3",
   "language": "python",
   "name": "python3"
  },
  "language_info": {
   "codemirror_mode": {
    "name": "ipython",
    "version": 3
   },
   "file_extension": ".py",
   "mimetype": "text/x-python",
   "name": "python",
   "nbconvert_exporter": "python",
   "pygments_lexer": "ipython3",
   "version": "3.8.3"
  }
 },
 "nbformat": 4,
 "nbformat_minor": 4
}
