{
 "cells": [
  {
   "cell_type": "markdown",
   "metadata": {},
   "source": [
    "# Logistic Regression with L2 regularization\n",
    "\n",
    "Goal: implement logistic regression classifier with L2 regularization from scratch\n",
    "\n",
    " * Extract features from Amazon product reviews.\n",
    " * Convert dataframe into a NumPy array.\n",
    " * Write a function to compute the derivative of log likelihood function with an L2 penalty with respect to a single coefficient.\n",
    " * Implement gradient ascent with an L2 penalty.\n",
    " * Empirically explore how the L2 penalty can ameliorate overfitting."
   ]
  },
  {
   "cell_type": "code",
   "execution_count": 1,
   "metadata": {},
   "outputs": [],
   "source": [
    "import numpy as np\n",
    "import pandas as pd\n",
    "import json"
   ]
  },
  {
   "cell_type": "code",
   "execution_count": 2,
   "metadata": {},
   "outputs": [],
   "source": [
    "products = pd.read_csv('amazon_baby_subset.csv')"
   ]
  },
  {
   "cell_type": "markdown",
   "metadata": {},
   "source": [
    "### Data pre-processing:"
   ]
  },
  {
   "cell_type": "markdown",
   "metadata": {},
   "source": [
    "#### Fill NA, remove punctuation"
   ]
  },
  {
   "cell_type": "code",
   "execution_count": 8,
   "metadata": {},
   "outputs": [
    {
     "data": {
      "text/plain": [
       "0"
      ]
     },
     "execution_count": 8,
     "metadata": {},
     "output_type": "execute_result"
    }
   ],
   "source": [
    "products['review'].isnull().sum()"
   ]
  },
  {
   "cell_type": "code",
   "execution_count": 3,
   "metadata": {},
   "outputs": [],
   "source": [
    "products = products.fillna({'review':''})\n",
    "\n",
    "def remove_punctuation(text):\n",
    "    import string\n",
    "    return text.translate(str.maketrans('','',string.punctuation))\n",
    "products['review_clean'] = products['review'].apply(remove_punctuation)"
   ]
  },
  {
   "cell_type": "markdown",
   "metadata": {},
   "source": [
    "#### Count words"
   ]
  },
  {
   "cell_type": "code",
   "execution_count": 6,
   "metadata": {},
   "outputs": [
    {
     "name": "stdout",
     "output_type": "stream",
     "text": [
      "['baby', 'one', 'great', 'love', 'use', 'would', 'like', 'easy', 'little', 'seat']\n"
     ]
    },
    {
     "data": {
      "text/plain": [
       "list"
      ]
     },
     "execution_count": 6,
     "metadata": {},
     "output_type": "execute_result"
    }
   ],
   "source": [
    "with open('important_words.json') as important_words_file:  # convert json file into python file\n",
    "    important_words = json.load(important_words_file)\n",
    "print (important_words[:10])    # important_words is a list "
   ]
  },
  {
   "cell_type": "code",
   "execution_count": 5,
   "metadata": {},
   "outputs": [],
   "source": [
    "for word in important_words:\n",
    "    products[word] = products['review_clean'].apply(lambda s : s.split().count(word))   # lambda s  as a defined function"
   ]
  },
  {
   "cell_type": "code",
   "execution_count": 8,
   "metadata": {},
   "outputs": [
    {
     "data": {
      "text/html": [
       "<div>\n",
       "<style scoped>\n",
       "    .dataframe tbody tr th:only-of-type {\n",
       "        vertical-align: middle;\n",
       "    }\n",
       "\n",
       "    .dataframe tbody tr th {\n",
       "        vertical-align: top;\n",
       "    }\n",
       "\n",
       "    .dataframe thead th {\n",
       "        text-align: right;\n",
       "    }\n",
       "</style>\n",
       "<table border=\"1\" class=\"dataframe\">\n",
       "  <thead>\n",
       "    <tr style=\"text-align: right;\">\n",
       "      <th></th>\n",
       "      <th>name</th>\n",
       "      <th>review</th>\n",
       "      <th>rating</th>\n",
       "      <th>sentiment</th>\n",
       "      <th>review_clean</th>\n",
       "      <th>baby</th>\n",
       "      <th>one</th>\n",
       "      <th>great</th>\n",
       "      <th>love</th>\n",
       "      <th>use</th>\n",
       "      <th>...</th>\n",
       "      <th>seems</th>\n",
       "      <th>picture</th>\n",
       "      <th>completely</th>\n",
       "      <th>wish</th>\n",
       "      <th>buying</th>\n",
       "      <th>babies</th>\n",
       "      <th>won</th>\n",
       "      <th>tub</th>\n",
       "      <th>almost</th>\n",
       "      <th>either</th>\n",
       "    </tr>\n",
       "  </thead>\n",
       "  <tbody>\n",
       "    <tr>\n",
       "      <th>0</th>\n",
       "      <td>Stop Pacifier Sucking without tears with Thumb...</td>\n",
       "      <td>All of my kids have cried non-stop when I trie...</td>\n",
       "      <td>5</td>\n",
       "      <td>1</td>\n",
       "      <td>All of my kids have cried nonstop when I tried...</td>\n",
       "      <td>0</td>\n",
       "      <td>0</td>\n",
       "      <td>1</td>\n",
       "      <td>0</td>\n",
       "      <td>0</td>\n",
       "      <td>...</td>\n",
       "      <td>0</td>\n",
       "      <td>0</td>\n",
       "      <td>0</td>\n",
       "      <td>0</td>\n",
       "      <td>0</td>\n",
       "      <td>0</td>\n",
       "      <td>0</td>\n",
       "      <td>0</td>\n",
       "      <td>0</td>\n",
       "      <td>0</td>\n",
       "    </tr>\n",
       "    <tr>\n",
       "      <th>1</th>\n",
       "      <td>Nature's Lullabies Second Year Sticker Calendar</td>\n",
       "      <td>We wanted to get something to keep track of ou...</td>\n",
       "      <td>5</td>\n",
       "      <td>1</td>\n",
       "      <td>We wanted to get something to keep track of ou...</td>\n",
       "      <td>0</td>\n",
       "      <td>0</td>\n",
       "      <td>0</td>\n",
       "      <td>0</td>\n",
       "      <td>0</td>\n",
       "      <td>...</td>\n",
       "      <td>0</td>\n",
       "      <td>0</td>\n",
       "      <td>0</td>\n",
       "      <td>0</td>\n",
       "      <td>0</td>\n",
       "      <td>0</td>\n",
       "      <td>0</td>\n",
       "      <td>0</td>\n",
       "      <td>0</td>\n",
       "      <td>0</td>\n",
       "    </tr>\n",
       "    <tr>\n",
       "      <th>2</th>\n",
       "      <td>Nature's Lullabies Second Year Sticker Calendar</td>\n",
       "      <td>My daughter had her 1st baby over a year ago. ...</td>\n",
       "      <td>5</td>\n",
       "      <td>1</td>\n",
       "      <td>My daughter had her 1st baby over a year ago S...</td>\n",
       "      <td>1</td>\n",
       "      <td>0</td>\n",
       "      <td>0</td>\n",
       "      <td>0</td>\n",
       "      <td>0</td>\n",
       "      <td>...</td>\n",
       "      <td>0</td>\n",
       "      <td>0</td>\n",
       "      <td>0</td>\n",
       "      <td>0</td>\n",
       "      <td>0</td>\n",
       "      <td>0</td>\n",
       "      <td>0</td>\n",
       "      <td>0</td>\n",
       "      <td>0</td>\n",
       "      <td>0</td>\n",
       "    </tr>\n",
       "  </tbody>\n",
       "</table>\n",
       "<p>3 rows × 198 columns</p>\n",
       "</div>"
      ],
      "text/plain": [
       "                                                name  \\\n",
       "0  Stop Pacifier Sucking without tears with Thumb...   \n",
       "1    Nature's Lullabies Second Year Sticker Calendar   \n",
       "2    Nature's Lullabies Second Year Sticker Calendar   \n",
       "\n",
       "                                              review  rating  sentiment  \\\n",
       "0  All of my kids have cried non-stop when I trie...       5          1   \n",
       "1  We wanted to get something to keep track of ou...       5          1   \n",
       "2  My daughter had her 1st baby over a year ago. ...       5          1   \n",
       "\n",
       "                                        review_clean  baby  one  great  love  \\\n",
       "0  All of my kids have cried nonstop when I tried...     0    0      1     0   \n",
       "1  We wanted to get something to keep track of ou...     0    0      0     0   \n",
       "2  My daughter had her 1st baby over a year ago S...     1    0      0     0   \n",
       "\n",
       "   use  ...  seems  picture  completely  wish  buying  babies  won  tub  \\\n",
       "0    0  ...      0        0           0     0       0       0    0    0   \n",
       "1    0  ...      0        0           0     0       0       0    0    0   \n",
       "2    0  ...      0        0           0     0       0       0    0    0   \n",
       "\n",
       "   almost  either  \n",
       "0       0       0  \n",
       "1       0       0  \n",
       "2       0       0  \n",
       "\n",
       "[3 rows x 198 columns]"
      ]
     },
     "execution_count": 8,
     "metadata": {},
     "output_type": "execute_result"
    }
   ],
   "source": [
    "products.iloc[:3]"
   ]
  },
  {
   "cell_type": "markdown",
   "metadata": {},
   "source": [
    "### Split train and validation data"
   ]
  },
  {
   "cell_type": "code",
   "execution_count": 9,
   "metadata": {},
   "outputs": [],
   "source": [
    "with open('module-4-assignment-train-idx.json') as train_data_file:    \n",
    "    train_data_idx = json.load(train_data_file)\n",
    "with open('module-4-assignment-validation-idx.json') as validation_data_file:    \n",
    "    validation_data_idx = json.load(validation_data_file)"
   ]
  },
  {
   "cell_type": "code",
   "execution_count": 10,
   "metadata": {},
   "outputs": [
    {
     "name": "stdout",
     "output_type": "stream",
     "text": [
      "[0, 1, 3, 4, 5]\n",
      "[2, 9, 23, 26, 27]\n"
     ]
    }
   ],
   "source": [
    "print(train_data_idx[:5])\n",
    "print(validation_data_idx[:5])"
   ]
  },
  {
   "cell_type": "code",
   "execution_count": 11,
   "metadata": {},
   "outputs": [
    {
     "data": {
      "text/html": [
       "<div>\n",
       "<style scoped>\n",
       "    .dataframe tbody tr th:only-of-type {\n",
       "        vertical-align: middle;\n",
       "    }\n",
       "\n",
       "    .dataframe tbody tr th {\n",
       "        vertical-align: top;\n",
       "    }\n",
       "\n",
       "    .dataframe thead th {\n",
       "        text-align: right;\n",
       "    }\n",
       "</style>\n",
       "<table border=\"1\" class=\"dataframe\">\n",
       "  <thead>\n",
       "    <tr style=\"text-align: right;\">\n",
       "      <th></th>\n",
       "      <th>name</th>\n",
       "      <th>review</th>\n",
       "      <th>rating</th>\n",
       "      <th>sentiment</th>\n",
       "      <th>review_clean</th>\n",
       "      <th>baby</th>\n",
       "      <th>one</th>\n",
       "      <th>great</th>\n",
       "      <th>love</th>\n",
       "      <th>use</th>\n",
       "      <th>...</th>\n",
       "      <th>seems</th>\n",
       "      <th>picture</th>\n",
       "      <th>completely</th>\n",
       "      <th>wish</th>\n",
       "      <th>buying</th>\n",
       "      <th>babies</th>\n",
       "      <th>won</th>\n",
       "      <th>tub</th>\n",
       "      <th>almost</th>\n",
       "      <th>either</th>\n",
       "    </tr>\n",
       "  </thead>\n",
       "  <tbody>\n",
       "    <tr>\n",
       "      <th>2</th>\n",
       "      <td>Nature's Lullabies Second Year Sticker Calendar</td>\n",
       "      <td>My daughter had her 1st baby over a year ago. ...</td>\n",
       "      <td>5</td>\n",
       "      <td>1</td>\n",
       "      <td>My daughter had her 1st baby over a year ago S...</td>\n",
       "      <td>1</td>\n",
       "      <td>0</td>\n",
       "      <td>0</td>\n",
       "      <td>0</td>\n",
       "      <td>0</td>\n",
       "      <td>...</td>\n",
       "      <td>0</td>\n",
       "      <td>0</td>\n",
       "      <td>0</td>\n",
       "      <td>0</td>\n",
       "      <td>0</td>\n",
       "      <td>0</td>\n",
       "      <td>0</td>\n",
       "      <td>0</td>\n",
       "      <td>0</td>\n",
       "      <td>0</td>\n",
       "    </tr>\n",
       "    <tr>\n",
       "      <th>9</th>\n",
       "      <td>Cloth Diaper Pins Stainless Steel Traditional ...</td>\n",
       "      <td>It has been many years since we needed diaper ...</td>\n",
       "      <td>5</td>\n",
       "      <td>1</td>\n",
       "      <td>It has been many years since we needed diaper ...</td>\n",
       "      <td>0</td>\n",
       "      <td>1</td>\n",
       "      <td>0</td>\n",
       "      <td>0</td>\n",
       "      <td>0</td>\n",
       "      <td>...</td>\n",
       "      <td>0</td>\n",
       "      <td>0</td>\n",
       "      <td>0</td>\n",
       "      <td>0</td>\n",
       "      <td>0</td>\n",
       "      <td>0</td>\n",
       "      <td>0</td>\n",
       "      <td>0</td>\n",
       "      <td>0</td>\n",
       "      <td>0</td>\n",
       "    </tr>\n",
       "    <tr>\n",
       "      <th>23</th>\n",
       "      <td>Fisher Price Nesting Action Vehicles</td>\n",
       "      <td>For well over a year my son has enjoyed stacki...</td>\n",
       "      <td>5</td>\n",
       "      <td>1</td>\n",
       "      <td>For well over a year my son has enjoyed stacki...</td>\n",
       "      <td>0</td>\n",
       "      <td>1</td>\n",
       "      <td>0</td>\n",
       "      <td>0</td>\n",
       "      <td>0</td>\n",
       "      <td>...</td>\n",
       "      <td>0</td>\n",
       "      <td>0</td>\n",
       "      <td>0</td>\n",
       "      <td>0</td>\n",
       "      <td>0</td>\n",
       "      <td>0</td>\n",
       "      <td>0</td>\n",
       "      <td>0</td>\n",
       "      <td>0</td>\n",
       "      <td>0</td>\n",
       "    </tr>\n",
       "  </tbody>\n",
       "</table>\n",
       "<p>3 rows × 198 columns</p>\n",
       "</div>"
      ],
      "text/plain": [
       "                                                 name  \\\n",
       "2     Nature's Lullabies Second Year Sticker Calendar   \n",
       "9   Cloth Diaper Pins Stainless Steel Traditional ...   \n",
       "23               Fisher Price Nesting Action Vehicles   \n",
       "\n",
       "                                               review  rating  sentiment  \\\n",
       "2   My daughter had her 1st baby over a year ago. ...       5          1   \n",
       "9   It has been many years since we needed diaper ...       5          1   \n",
       "23  For well over a year my son has enjoyed stacki...       5          1   \n",
       "\n",
       "                                         review_clean  baby  one  great  love  \\\n",
       "2   My daughter had her 1st baby over a year ago S...     1    0      0     0   \n",
       "9   It has been many years since we needed diaper ...     0    1      0     0   \n",
       "23  For well over a year my son has enjoyed stacki...     0    1      0     0   \n",
       "\n",
       "    use  ...  seems  picture  completely  wish  buying  babies  won  tub  \\\n",
       "2     0  ...      0        0           0     0       0       0    0    0   \n",
       "9     0  ...      0        0           0     0       0       0    0    0   \n",
       "23    0  ...      0        0           0     0       0       0    0    0   \n",
       "\n",
       "    almost  either  \n",
       "2        0       0  \n",
       "9        0       0  \n",
       "23       0       0  \n",
       "\n",
       "[3 rows x 198 columns]"
      ]
     },
     "execution_count": 11,
     "metadata": {},
     "output_type": "execute_result"
    }
   ],
   "source": [
    "train_data = products.iloc[train_data_idx]\n",
    "validation_data=products.iloc[validation_data_idx]\n",
    "train_data.iloc[:3]  # train_data[:3]\n",
    "validation_data.iloc[:3]"
   ]
  },
  {
   "cell_type": "code",
   "execution_count": 12,
   "metadata": {},
   "outputs": [],
   "source": [
    "def get_numpy_data(dataframe, features, label):\n",
    "    dataframe['constant'] = 1\n",
    "    features = ['constant'] + features\n",
    "    features_frame = dataframe[features]\n",
    "    feature_matrix = features_frame.to_numpy()\n",
    "    label_sarray = dataframe[label]\n",
    "    label_array = label_sarray.to_numpy()\n",
    "    return(feature_matrix, label_array)"
   ]
  },
  {
   "cell_type": "code",
   "execution_count": 13,
   "metadata": {},
   "outputs": [
    {
     "name": "stderr",
     "output_type": "stream",
     "text": [
      "C:\\Users\\Lenovo\\anaconda3\\lib\\site-packages\\ipykernel_launcher.py:2: SettingWithCopyWarning: \n",
      "A value is trying to be set on a copy of a slice from a DataFrame.\n",
      "Try using .loc[row_indexer,col_indexer] = value instead\n",
      "\n",
      "See the caveats in the documentation: https://pandas.pydata.org/pandas-docs/stable/user_guide/indexing.html#returning-a-view-versus-a-copy\n",
      "  \n"
     ]
    }
   ],
   "source": [
    "feature_matrix_train, sentiment_train = get_numpy_data(train_data, important_words, 'sentiment')\n",
    "feature_matrix_valid, sentiment_valid = get_numpy_data(validation_data, important_words, 'sentiment')"
   ]
  },
  {
   "cell_type": "code",
   "execution_count": 14,
   "metadata": {},
   "outputs": [
    {
     "name": "stdout",
     "output_type": "stream",
     "text": [
      "(42361, 194)\n",
      "(10711, 194)\n"
     ]
    }
   ],
   "source": [
    "print (feature_matrix_train.shape)\n",
    "print (feature_matrix_valid.shape)"
   ]
  },
  {
   "cell_type": "markdown",
   "metadata": {},
   "source": [
    "### Build Functions for penalized logistic regression"
   ]
  },
  {
   "cell_type": "code",
   "execution_count": 15,
   "metadata": {},
   "outputs": [],
   "source": [
    "def predict_probability (feature_matrix,coefficients):\n",
    "    score=np.dot(feature_matrix,coefficients)  # feature_matrix: N*D  coefficients: D*1 score: N*1\n",
    "    predictions=1.0/(1+np.exp(-score))         #prediction: N*1\n",
    "    return predictions"
   ]
  },
  {
   "cell_type": "code",
   "execution_count": 16,
   "metadata": {},
   "outputs": [],
   "source": [
    "def feature_derivative_with_L2(errors, feature, coefficient, l2_penalty, constant_feature):\n",
    "    derivative= np.dot(np.transpose(errors),feature)      # errors:N*1; feature:N*1; derivative:1*1\n",
    "    if constant_feature!=1:  # execute if constant_feature is 0 or empty\n",
    "        derivative -= 2 * l2_penalty * coefficient\n",
    "    return derivative"
   ]
  },
  {
   "cell_type": "code",
   "execution_count": 17,
   "metadata": {},
   "outputs": [],
   "source": [
    "def compute_log_likelihood(feature_matrix, sentiment, coefficients,l2_penalty):\n",
    "    indicator=(sentiment==+1)   \n",
    "    scores= np.dot(feature_matrix, coefficients)     # scores: N*1 \n",
    "    lp=np.sum((indicator-1)*scores-np.log(1+np.exp(-scores)))-l2_penalty*np.sum(coefficients[1:]**2)     # sum elements in a N*1 array\n",
    "    return lp"
   ]
  },
  {
   "cell_type": "code",
   "execution_count": 18,
   "metadata": {},
   "outputs": [],
   "source": [
    "def logistic_regression_with_L2(feature_matrix, sentiment, initial_coefficients, step_size, l2_penalty, max_iter):\n",
    "    coefficients = np.array(initial_coefficients) # make sure it's a numpy array\n",
    "    \n",
    "    for itr in range(max_iter):\n",
    "        predictions = predict_probability(feature_matrix, coefficients)\n",
    "        indicator = (sentiment==+1)\n",
    "        errors = np.transpose(np.array([indicator])) - predictions\n",
    "        \n",
    "        for j in range(len(coefficients)): \n",
    "            is_intercept = (j == 0)  # an indicator function, =1 only when j=0\n",
    "\n",
    "            derivative = feature_derivative_with_L2(errors, feature_matrix[:,j], coefficients[j], l2_penalty, is_intercept)\n",
    "            coefficients[j] += step_size*derivative\n",
    "        \n",
    "        # Checking whether log likelihood is increasing\n",
    "        #if itr <= 15 or (itr <= 100 and itr % 10 == 0) or (itr <= 1000 and itr % 100 == 0) \\\n",
    "        #or (itr <= 10000 and itr % 1000 == 0) or itr % 10000 == 0:\n",
    "            #lp = compute_log_likelihood_with_L2(feature_matrix, sentiment, coefficients, l2_penalty)\n",
    "            #print 'iteration %*d: log likelihood of observed labels = %.8f' % \\\n",
    "                #(int(np.ceil(np.log10(max_iter))), itr, lp)\n",
    "    return coefficients"
   ]
  },
  {
   "cell_type": "code",
   "execution_count": 19,
   "metadata": {},
   "outputs": [],
   "source": [
    "initial_coefficients = np.zeros((194,1))\n",
    "step_size = 5e-6\n",
    "max_iter = 501"
   ]
  },
  {
   "cell_type": "markdown",
   "metadata": {},
   "source": [
    "#### penalty=0"
   ]
  },
  {
   "cell_type": "code",
   "execution_count": 20,
   "metadata": {},
   "outputs": [],
   "source": [
    "coefficients_0_penalty = logistic_regression_with_L2(feature_matrix_train , sentiment_train , initial_coefficients, step_size, 0, max_iter)"
   ]
  },
  {
   "cell_type": "code",
   "execution_count": 21,
   "metadata": {},
   "outputs": [
    {
     "name": "stdout",
     "output_type": "stream",
     "text": [
      "       word  coefficients\n",
      "3      love      1.058554\n",
      "22    loves      1.052484\n",
      "7      easy      0.984559\n",
      "33  perfect      0.835693\n",
      "2     great      0.801625\n",
      "82    happy      0.557395\n",
      "75     best      0.535034\n",
      "8    little      0.524419\n",
      "90     fits      0.487652\n",
      "11     well      0.453866\n",
      "             word  coefficients\n",
      "105  disappointed     -0.955437\n",
      "96          money     -0.768793\n",
      "113        return     -0.742085\n",
      "112         waste     -0.617809\n",
      "168      returned     -0.572707\n",
      "171         broke     -0.555195\n",
      "77           work     -0.526716\n",
      "99        thought     -0.477856\n",
      "175          idea     -0.465370\n",
      "133         cheap     -0.458912\n"
     ]
    }
   ],
   "source": [
    "coef_table = pd.DataFrame({'word':important_words, 'coefficients': coefficients_0_penalty.flatten()[1:]})  # exclude coef of constant\n",
    "coef_table_sort=coef_table.sort_values(by=['coefficients'], ascending=False)\n",
    "print(coef_table_sort[:10])\n",
    "coef_table_sort=coef_table.sort_values(by=['coefficients'], ascending=True)\n",
    "print(coef_table_sort[:10])"
   ]
  },
  {
   "cell_type": "markdown",
   "metadata": {},
   "source": [
    "#### penalty=4,10,1e2,1e3,1e5"
   ]
  },
  {
   "cell_type": "code",
   "execution_count": 22,
   "metadata": {},
   "outputs": [],
   "source": [
    "coefficients_4_penalty = logistic_regression_with_L2(feature_matrix_train , sentiment_train , initial_coefficients, step_size, 4, max_iter)"
   ]
  },
  {
   "cell_type": "code",
   "execution_count": 23,
   "metadata": {},
   "outputs": [],
   "source": [
    "coefficients_10_penalty = logistic_regression_with_L2(feature_matrix_train , sentiment_train , initial_coefficients, step_size, 10, max_iter)"
   ]
  },
  {
   "cell_type": "code",
   "execution_count": 24,
   "metadata": {},
   "outputs": [],
   "source": [
    "coefficients_1e2_penalty = logistic_regression_with_L2(feature_matrix_train , sentiment_train , initial_coefficients, step_size, 1e2, max_iter)"
   ]
  },
  {
   "cell_type": "code",
   "execution_count": 25,
   "metadata": {},
   "outputs": [],
   "source": [
    "coefficients_1e3_penalty = logistic_regression_with_L2(feature_matrix_train , sentiment_train , initial_coefficients, step_size, 1e3, max_iter)"
   ]
  },
  {
   "cell_type": "code",
   "execution_count": 26,
   "metadata": {},
   "outputs": [],
   "source": [
    "coefficients_1e5_penalty = logistic_regression_with_L2(feature_matrix_train , sentiment_train , initial_coefficients, step_size, 1e5, max_iter)"
   ]
  },
  {
   "cell_type": "markdown",
   "metadata": {},
   "source": [
    "#### Compare coefficients under different penalty"
   ]
  },
  {
   "cell_type": "code",
   "execution_count": 27,
   "metadata": {},
   "outputs": [
    {
     "data": {
      "text/html": [
       "<div>\n",
       "<style scoped>\n",
       "    .dataframe tbody tr th:only-of-type {\n",
       "        vertical-align: middle;\n",
       "    }\n",
       "\n",
       "    .dataframe tbody tr th {\n",
       "        vertical-align: top;\n",
       "    }\n",
       "\n",
       "    .dataframe thead th {\n",
       "        text-align: right;\n",
       "    }\n",
       "</style>\n",
       "<table border=\"1\" class=\"dataframe\">\n",
       "  <thead>\n",
       "    <tr style=\"text-align: right;\">\n",
       "      <th></th>\n",
       "      <th>(intercept)</th>\n",
       "      <th>baby</th>\n",
       "      <th>one</th>\n",
       "      <th>great</th>\n",
       "      <th>love</th>\n",
       "      <th>use</th>\n",
       "      <th>would</th>\n",
       "      <th>like</th>\n",
       "      <th>easy</th>\n",
       "      <th>little</th>\n",
       "      <th>...</th>\n",
       "      <th>seems</th>\n",
       "      <th>picture</th>\n",
       "      <th>completely</th>\n",
       "      <th>wish</th>\n",
       "      <th>buying</th>\n",
       "      <th>babies</th>\n",
       "      <th>won</th>\n",
       "      <th>tub</th>\n",
       "      <th>almost</th>\n",
       "      <th>either</th>\n",
       "    </tr>\n",
       "  </thead>\n",
       "  <tbody>\n",
       "    <tr>\n",
       "      <th>0.0</th>\n",
       "      <td>-0.063742</td>\n",
       "      <td>0.074073</td>\n",
       "      <td>0.012753</td>\n",
       "      <td>0.801625</td>\n",
       "      <td>1.058554</td>\n",
       "      <td>-0.000104</td>\n",
       "      <td>-0.287021</td>\n",
       "      <td>-0.003384</td>\n",
       "      <td>0.984559</td>\n",
       "      <td>0.524419</td>\n",
       "      <td>...</td>\n",
       "      <td>0.058308</td>\n",
       "      <td>-0.196906</td>\n",
       "      <td>-0.277845</td>\n",
       "      <td>0.173191</td>\n",
       "      <td>-0.132197</td>\n",
       "      <td>0.052494</td>\n",
       "      <td>0.004960</td>\n",
       "      <td>-0.166745</td>\n",
       "      <td>-0.031916</td>\n",
       "      <td>-0.228852</td>\n",
       "    </tr>\n",
       "    <tr>\n",
       "      <th>4.0</th>\n",
       "      <td>-0.063143</td>\n",
       "      <td>0.073994</td>\n",
       "      <td>0.012495</td>\n",
       "      <td>0.796897</td>\n",
       "      <td>1.050856</td>\n",
       "      <td>0.000163</td>\n",
       "      <td>-0.286027</td>\n",
       "      <td>-0.003442</td>\n",
       "      <td>0.977600</td>\n",
       "      <td>0.521385</td>\n",
       "      <td>...</td>\n",
       "      <td>0.057905</td>\n",
       "      <td>-0.195273</td>\n",
       "      <td>-0.275461</td>\n",
       "      <td>0.171640</td>\n",
       "      <td>-0.131083</td>\n",
       "      <td>0.052130</td>\n",
       "      <td>0.004907</td>\n",
       "      <td>-0.165367</td>\n",
       "      <td>-0.031621</td>\n",
       "      <td>-0.226793</td>\n",
       "    </tr>\n",
       "    <tr>\n",
       "      <th>10.0</th>\n",
       "      <td>-0.062256</td>\n",
       "      <td>0.073877</td>\n",
       "      <td>0.012115</td>\n",
       "      <td>0.789935</td>\n",
       "      <td>1.039529</td>\n",
       "      <td>0.000556</td>\n",
       "      <td>-0.284564</td>\n",
       "      <td>-0.003527</td>\n",
       "      <td>0.967362</td>\n",
       "      <td>0.516917</td>\n",
       "      <td>...</td>\n",
       "      <td>0.057312</td>\n",
       "      <td>-0.192866</td>\n",
       "      <td>-0.271947</td>\n",
       "      <td>0.169352</td>\n",
       "      <td>-0.129441</td>\n",
       "      <td>0.051594</td>\n",
       "      <td>0.004830</td>\n",
       "      <td>-0.163338</td>\n",
       "      <td>-0.031186</td>\n",
       "      <td>-0.223758</td>\n",
       "    </tr>\n",
       "    <tr>\n",
       "      <th>100.0</th>\n",
       "      <td>-0.050438</td>\n",
       "      <td>0.072360</td>\n",
       "      <td>0.007247</td>\n",
       "      <td>0.701425</td>\n",
       "      <td>0.896644</td>\n",
       "      <td>0.005481</td>\n",
       "      <td>-0.265993</td>\n",
       "      <td>-0.004635</td>\n",
       "      <td>0.838245</td>\n",
       "      <td>0.460235</td>\n",
       "      <td>...</td>\n",
       "      <td>0.049753</td>\n",
       "      <td>-0.162143</td>\n",
       "      <td>-0.227098</td>\n",
       "      <td>0.140022</td>\n",
       "      <td>-0.108471</td>\n",
       "      <td>0.044805</td>\n",
       "      <td>0.003848</td>\n",
       "      <td>-0.137693</td>\n",
       "      <td>-0.025604</td>\n",
       "      <td>-0.184986</td>\n",
       "    </tr>\n",
       "    <tr>\n",
       "      <th>1000.0</th>\n",
       "      <td>0.000054</td>\n",
       "      <td>0.059752</td>\n",
       "      <td>-0.008761</td>\n",
       "      <td>0.376012</td>\n",
       "      <td>0.418354</td>\n",
       "      <td>0.017326</td>\n",
       "      <td>-0.188662</td>\n",
       "      <td>-0.007043</td>\n",
       "      <td>0.401904</td>\n",
       "      <td>0.251221</td>\n",
       "      <td>...</td>\n",
       "      <td>0.022875</td>\n",
       "      <td>-0.061171</td>\n",
       "      <td>-0.081775</td>\n",
       "      <td>0.044374</td>\n",
       "      <td>-0.040331</td>\n",
       "      <td>0.021026</td>\n",
       "      <td>0.001084</td>\n",
       "      <td>-0.054778</td>\n",
       "      <td>-0.007361</td>\n",
       "      <td>-0.061138</td>\n",
       "    </tr>\n",
       "    <tr>\n",
       "      <th>100000.0</th>\n",
       "      <td>0.011362</td>\n",
       "      <td>0.001784</td>\n",
       "      <td>-0.001827</td>\n",
       "      <td>0.008950</td>\n",
       "      <td>0.009042</td>\n",
       "      <td>0.000418</td>\n",
       "      <td>-0.008127</td>\n",
       "      <td>-0.000827</td>\n",
       "      <td>0.008808</td>\n",
       "      <td>0.005941</td>\n",
       "      <td>...</td>\n",
       "      <td>0.000329</td>\n",
       "      <td>-0.001151</td>\n",
       "      <td>-0.001421</td>\n",
       "      <td>0.000468</td>\n",
       "      <td>-0.000792</td>\n",
       "      <td>0.000365</td>\n",
       "      <td>0.000017</td>\n",
       "      <td>-0.000936</td>\n",
       "      <td>-0.000125</td>\n",
       "      <td>-0.000980</td>\n",
       "    </tr>\n",
       "  </tbody>\n",
       "</table>\n",
       "<p>6 rows × 194 columns</p>\n",
       "</div>"
      ],
      "text/plain": [
       "          (intercept)      baby       one     great      love       use  \\\n",
       "0.0         -0.063742  0.074073  0.012753  0.801625  1.058554 -0.000104   \n",
       "4.0         -0.063143  0.073994  0.012495  0.796897  1.050856  0.000163   \n",
       "10.0        -0.062256  0.073877  0.012115  0.789935  1.039529  0.000556   \n",
       "100.0       -0.050438  0.072360  0.007247  0.701425  0.896644  0.005481   \n",
       "1000.0       0.000054  0.059752 -0.008761  0.376012  0.418354  0.017326   \n",
       "100000.0     0.011362  0.001784 -0.001827  0.008950  0.009042  0.000418   \n",
       "\n",
       "             would      like      easy    little  ...     seems   picture  \\\n",
       "0.0      -0.287021 -0.003384  0.984559  0.524419  ...  0.058308 -0.196906   \n",
       "4.0      -0.286027 -0.003442  0.977600  0.521385  ...  0.057905 -0.195273   \n",
       "10.0     -0.284564 -0.003527  0.967362  0.516917  ...  0.057312 -0.192866   \n",
       "100.0    -0.265993 -0.004635  0.838245  0.460235  ...  0.049753 -0.162143   \n",
       "1000.0   -0.188662 -0.007043  0.401904  0.251221  ...  0.022875 -0.061171   \n",
       "100000.0 -0.008127 -0.000827  0.008808  0.005941  ...  0.000329 -0.001151   \n",
       "\n",
       "          completely      wish    buying    babies       won       tub  \\\n",
       "0.0        -0.277845  0.173191 -0.132197  0.052494  0.004960 -0.166745   \n",
       "4.0        -0.275461  0.171640 -0.131083  0.052130  0.004907 -0.165367   \n",
       "10.0       -0.271947  0.169352 -0.129441  0.051594  0.004830 -0.163338   \n",
       "100.0      -0.227098  0.140022 -0.108471  0.044805  0.003848 -0.137693   \n",
       "1000.0     -0.081775  0.044374 -0.040331  0.021026  0.001084 -0.054778   \n",
       "100000.0   -0.001421  0.000468 -0.000792  0.000365  0.000017 -0.000936   \n",
       "\n",
       "            almost    either  \n",
       "0.0      -0.031916 -0.228852  \n",
       "4.0      -0.031621 -0.226793  \n",
       "10.0     -0.031186 -0.223758  \n",
       "100.0    -0.025604 -0.184986  \n",
       "1000.0   -0.007361 -0.061138  \n",
       "100000.0 -0.000125 -0.000980  \n",
       "\n",
       "[6 rows x 194 columns]"
      ]
     },
     "execution_count": 27,
     "metadata": {},
     "output_type": "execute_result"
    }
   ],
   "source": [
    "table = pd.DataFrame(data=[coefficients_0_penalty.flatten(), coefficients_4_penalty.flatten(), coefficients_10_penalty.flatten(), coefficients_1e2_penalty.flatten(), coefficients_1e3_penalty.flatten(), coefficients_1e5_penalty.flatten()], \n",
    "                     index=[0, 4, 10, 100.0, 1000.0, 100000.0],\n",
    "                     columns=['(intercept)'] + important_words) \n",
    "table"
   ]
  },
  {
   "cell_type": "code",
   "execution_count": 28,
   "metadata": {},
   "outputs": [
    {
     "data": {
      "text/html": [
       "<div>\n",
       "<style scoped>\n",
       "    .dataframe tbody tr th:only-of-type {\n",
       "        vertical-align: middle;\n",
       "    }\n",
       "\n",
       "    .dataframe tbody tr th {\n",
       "        vertical-align: top;\n",
       "    }\n",
       "\n",
       "    .dataframe thead th {\n",
       "        text-align: right;\n",
       "    }\n",
       "</style>\n",
       "<table border=\"1\" class=\"dataframe\">\n",
       "  <thead>\n",
       "    <tr style=\"text-align: right;\">\n",
       "      <th></th>\n",
       "      <th>(intercept)</th>\n",
       "      <th>baby</th>\n",
       "      <th>one</th>\n",
       "      <th>great</th>\n",
       "      <th>love</th>\n",
       "      <th>use</th>\n",
       "      <th>would</th>\n",
       "      <th>like</th>\n",
       "      <th>easy</th>\n",
       "      <th>little</th>\n",
       "      <th>...</th>\n",
       "      <th>seems</th>\n",
       "      <th>picture</th>\n",
       "      <th>completely</th>\n",
       "      <th>wish</th>\n",
       "      <th>buying</th>\n",
       "      <th>babies</th>\n",
       "      <th>won</th>\n",
       "      <th>tub</th>\n",
       "      <th>almost</th>\n",
       "      <th>either</th>\n",
       "    </tr>\n",
       "  </thead>\n",
       "  <tbody>\n",
       "    <tr>\n",
       "      <th>0</th>\n",
       "      <td>-0.063742</td>\n",
       "      <td>0.074073</td>\n",
       "      <td>0.012753</td>\n",
       "      <td>0.801625</td>\n",
       "      <td>1.058554</td>\n",
       "      <td>-0.000104</td>\n",
       "      <td>-0.287021</td>\n",
       "      <td>-0.003384</td>\n",
       "      <td>0.984559</td>\n",
       "      <td>0.524419</td>\n",
       "      <td>...</td>\n",
       "      <td>0.058308</td>\n",
       "      <td>-0.196906</td>\n",
       "      <td>-0.277845</td>\n",
       "      <td>0.173191</td>\n",
       "      <td>-0.132197</td>\n",
       "      <td>0.052494</td>\n",
       "      <td>0.004960</td>\n",
       "      <td>-0.166745</td>\n",
       "      <td>-0.031916</td>\n",
       "      <td>-0.228852</td>\n",
       "    </tr>\n",
       "    <tr>\n",
       "      <th>4</th>\n",
       "      <td>-0.063143</td>\n",
       "      <td>0.073994</td>\n",
       "      <td>0.012495</td>\n",
       "      <td>0.796897</td>\n",
       "      <td>1.050856</td>\n",
       "      <td>0.000163</td>\n",
       "      <td>-0.286027</td>\n",
       "      <td>-0.003442</td>\n",
       "      <td>0.977600</td>\n",
       "      <td>0.521385</td>\n",
       "      <td>...</td>\n",
       "      <td>0.057905</td>\n",
       "      <td>-0.195273</td>\n",
       "      <td>-0.275461</td>\n",
       "      <td>0.171640</td>\n",
       "      <td>-0.131083</td>\n",
       "      <td>0.052130</td>\n",
       "      <td>0.004907</td>\n",
       "      <td>-0.165367</td>\n",
       "      <td>-0.031621</td>\n",
       "      <td>-0.226793</td>\n",
       "    </tr>\n",
       "  </tbody>\n",
       "</table>\n",
       "<p>2 rows × 194 columns</p>\n",
       "</div>"
      ],
      "text/plain": [
       "   (intercept)      baby       one     great      love       use     would  \\\n",
       "0    -0.063742  0.074073  0.012753  0.801625  1.058554 -0.000104 -0.287021   \n",
       "4    -0.063143  0.073994  0.012495  0.796897  1.050856  0.000163 -0.286027   \n",
       "\n",
       "       like      easy    little  ...     seems   picture  completely  \\\n",
       "0 -0.003384  0.984559  0.524419  ...  0.058308 -0.196906   -0.277845   \n",
       "4 -0.003442  0.977600  0.521385  ...  0.057905 -0.195273   -0.275461   \n",
       "\n",
       "       wish    buying    babies       won       tub    almost    either  \n",
       "0  0.173191 -0.132197  0.052494  0.004960 -0.166745 -0.031916 -0.228852  \n",
       "4  0.171640 -0.131083  0.052130  0.004907 -0.165367 -0.031621 -0.226793  \n",
       "\n",
       "[2 rows x 194 columns]"
      ]
     },
     "execution_count": 28,
     "metadata": {},
     "output_type": "execute_result"
    }
   ],
   "source": [
    "table = pd.DataFrame(data=[coefficients_0_penalty.flatten(), coefficients_4_penalty.flatten()], \n",
    "                     index=[0, 4],\n",
    "                     columns=['(intercept)'] + important_words) \n",
    "table"
   ]
  },
  {
   "cell_type": "markdown",
   "metadata": {},
   "source": [
    "#### Compare coeff of some certain words under different penalty"
   ]
  },
  {
   "cell_type": "code",
   "execution_count": 39,
   "metadata": {},
   "outputs": [
    {
     "name": "stdout",
     "output_type": "stream",
     "text": [
      "       word  coefficients_0  coefficients_4  coefficients_10  \\\n",
      "3      love        1.058554        1.050856         1.039529   \n",
      "22    loves        1.052484        1.043903         1.031265   \n",
      "7      easy        0.984559        0.977600         0.967362   \n",
      "33  perfect        0.835693        0.828555         0.818038   \n",
      "2     great        0.801625        0.796897         0.789935   \n",
      "\n",
      "    coefficients_1e2  coefficients_1e3  coefficients_1e5  \n",
      "3           0.896644          0.418354          0.009042  \n",
      "22          0.870794          0.345870          0.006150  \n",
      "7           0.838245          0.401904          0.008808  \n",
      "33          0.684143          0.250614          0.003989  \n",
      "2           0.701425          0.376012          0.008950  \n",
      "             word  coefficients_0  coefficients_4  coefficients_10  \\\n",
      "105  disappointed       -0.955437       -0.946980        -0.934518   \n",
      "96          money       -0.768793       -0.762734        -0.753818   \n",
      "113        return       -0.742085       -0.735502        -0.725807   \n",
      "112         waste       -0.617809       -0.612475        -0.604620   \n",
      "168      returned       -0.572707       -0.567518        -0.559870   \n",
      "\n",
      "     coefficients_1e2  coefficients_1e3  coefficients_1e5  \n",
      "105         -0.775625         -0.266095         -0.004013  \n",
      "96          -0.641406         -0.275883         -0.005487  \n",
      "113         -0.602646         -0.215199         -0.003730  \n",
      "112         -0.505189         -0.190631         -0.003345  \n",
      "168         -0.462056         -0.150021         -0.002225  \n"
     ]
    }
   ],
   "source": [
    "compare_table = pd.DataFrame({'word':important_words, 'coefficients_0': coefficients_0_penalty.flatten()[1:],'coefficients_4': coefficients_4_penalty.flatten()[1:],\n",
    "                          'coefficients_10': coefficients_10_penalty.flatten()[1:],'coefficients_1e2': coefficients_1e2_penalty.flatten()[1:],\n",
    "                          'coefficients_1e3': coefficients_1e3_penalty.flatten()[1:],'coefficients_1e5': coefficients_1e5_penalty.flatten()[1:]})  # exclude coef of constant\n",
    "compare_table_sort = compare_table.sort_values(by=['coefficients_0'], ascending=False)\n",
    "print(compare_table_sort[:5])\n",
    "compare_table_sort = compare_table.sort_values(by=['coefficients_0'], ascending=True)\n",
    "print(compare_table_sort[:5])"
   ]
  },
  {
   "cell_type": "code",
   "execution_count": 29,
   "metadata": {},
   "outputs": [
    {
     "name": "stdout",
     "output_type": "stream",
     "text": [
      "correct_num: 33260, total_num: 42361\n",
      "correct_num: 33258, total_num: 42361\n",
      "correct_num: 33253, total_num: 42361\n",
      "correct_num: 33210, total_num: 42361\n",
      "correct_num: 32866, total_num: 42361\n",
      "correct_num: 28821, total_num: 42361\n",
      "[0.7851561577866434, 0.7851089445480512, 0.7849909114515711, 0.7839758268218409, 0.7758551497839994, 0.6803663747314747]\n",
      "[[0.50404412]\n",
      " [0.50132932]\n",
      " [0.50272311]\n",
      " [0.50705669]\n",
      " [0.50706524]]\n"
     ]
    }
   ],
   "source": [
    "training_accuracy = []\n",
    "for coefficient in [coefficients_0_penalty, coefficients_4_penalty, coefficients_10_penalty, coefficients_1e2_penalty, coefficients_1e3_penalty, coefficients_1e5_penalty]:\n",
    "    predictions = predict_probability(feature_matrix_train, coefficient)\n",
    "    correct_num = np.sum((predictions.flatten()> 0.5) == (sentiment_train>0))\n",
    "    total_num = len(sentiment_train)\n",
    "    print (\"correct_num: {}, total_num: {}\".format(correct_num, total_num))\n",
    "    training_accuracy.append(correct_num * 1./ total_num)\n",
    "print (training_accuracy)\n",
    "print (predictions[:5])"
   ]
  },
  {
   "cell_type": "code",
   "execution_count": 30,
   "metadata": {},
   "outputs": [
    {
     "name": "stdout",
     "output_type": "stream",
     "text": [
      "[1 1 1 1 1]\n"
     ]
    },
    {
     "data": {
      "text/plain": [
       "(5,)"
      ]
     },
     "execution_count": 30,
     "metadata": {},
     "output_type": "execute_result"
    }
   ],
   "source": [
    "a= np.array(sentiment_train)[:5]\n",
    "print(a)\n",
    "a.shape"
   ]
  },
  {
   "cell_type": "code",
   "execution_count": 31,
   "metadata": {},
   "outputs": [
    {
     "name": "stdout",
     "output_type": "stream",
     "text": [
      "[1 1 1 1 1]\n"
     ]
    },
    {
     "data": {
      "text/plain": [
       "(5,)"
      ]
     },
     "execution_count": 31,
     "metadata": {},
     "output_type": "execute_result"
    }
   ],
   "source": [
    "b=sentiment_train[:5]\n",
    "print(b)\n",
    "b.shape"
   ]
  },
  {
   "cell_type": "code",
   "execution_count": 32,
   "metadata": {},
   "outputs": [
    {
     "name": "stdout",
     "output_type": "stream",
     "text": [
      "[[0.50404412]\n",
      " [0.50132932]\n",
      " [0.50272311]\n",
      " [0.50705669]\n",
      " [0.50706524]]\n"
     ]
    },
    {
     "data": {
      "text/plain": [
       "(5, 1)"
      ]
     },
     "execution_count": 32,
     "metadata": {},
     "output_type": "execute_result"
    }
   ],
   "source": [
    "e=predictions[:5]\n",
    "print(e)\n",
    "e.shape"
   ]
  },
  {
   "cell_type": "code",
   "execution_count": 33,
   "metadata": {},
   "outputs": [
    {
     "name": "stdout",
     "output_type": "stream",
     "text": [
      "[0.50404412 0.50132932 0.50272311 0.50705669 0.50706524]\n"
     ]
    },
    {
     "data": {
      "text/plain": [
       "(5,)"
      ]
     },
     "execution_count": 33,
     "metadata": {},
     "output_type": "execute_result"
    }
   ],
   "source": [
    "c=predictions.flatten()[:5]\n",
    "print(c)\n",
    "c.shape"
   ]
  },
  {
   "cell_type": "code",
   "execution_count": 34,
   "metadata": {},
   "outputs": [
    {
     "name": "stdout",
     "output_type": "stream",
     "text": [
      "[0.50404412 0.50132932 0.50272311 0.50705669 0.50706524]\n"
     ]
    },
    {
     "data": {
      "text/plain": [
       "(5,)"
      ]
     },
     "execution_count": 34,
     "metadata": {},
     "output_type": "execute_result"
    }
   ],
   "source": [
    "d=np.transpose(predictions.flatten())[:5]\n",
    "print(d)\n",
    "d.shape"
   ]
  },
  {
   "cell_type": "code",
   "execution_count": 36,
   "metadata": {},
   "outputs": [
    {
     "name": "stdout",
     "output_type": "stream",
     "text": [
      "correct_num: 8370, total_num: 10711\n",
      "correct_num: 8371, total_num: 10711\n",
      "correct_num: 8373, total_num: 10711\n",
      "correct_num: 8366, total_num: 10711\n",
      "correct_num: 8262, total_num: 10711\n",
      "correct_num: 7153, total_num: 10711\n",
      "[0.781439641490057, 0.7815330034543927, 0.7817197273830642, 0.781066193632714, 0.7713565493417982, 0.667818130893474]\n",
      "[[0.50301941]\n",
      " [0.50012794]\n",
      " [0.50418525]\n",
      " [0.50608206]\n",
      " [0.51048022]]\n"
     ]
    }
   ],
   "source": [
    "valid_accuracy = []\n",
    "for coefficient in [coefficients_0_penalty, coefficients_4_penalty, coefficients_10_penalty, coefficients_1e2_penalty, coefficients_1e3_penalty, coefficients_1e5_penalty]:\n",
    "    predictions = predict_probability(feature_matrix_valid, coefficient)\n",
    "    correct_num = np.sum((predictions.flatten()> 0.5) == (sentiment_valid>0))\n",
    "    total_num = len(sentiment_valid)\n",
    "    print (\"correct_num: {}, total_num: {}\".format(correct_num, total_num))\n",
    "    valid_accuracy.append(correct_num * 1./ total_num)\n",
    "print (valid_accuracy)\n",
    "print (predictions[:5])"
   ]
  },
  {
   "cell_type": "code",
   "execution_count": null,
   "metadata": {},
   "outputs": [],
   "source": []
  }
 ],
 "metadata": {
  "kernelspec": {
   "display_name": "Python 3",
   "language": "python",
   "name": "python3"
  },
  "language_info": {
   "codemirror_mode": {
    "name": "ipython",
    "version": 3
   },
   "file_extension": ".py",
   "mimetype": "text/x-python",
   "name": "python",
   "nbconvert_exporter": "python",
   "pygments_lexer": "ipython3",
   "version": "3.8.3"
  }
 },
 "nbformat": 4,
 "nbformat_minor": 4
}
